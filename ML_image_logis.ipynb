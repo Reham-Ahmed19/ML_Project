{
 "cells": [
  {
   "cell_type": "code",
   "execution_count": 3,
   "metadata": {},
   "outputs": [
    {
     "ename": "ModuleNotFoundError",
     "evalue": "No module named 'tensorflow'",
     "output_type": "error",
     "traceback": [
      "\u001b[1;31m---------------------------------------------------------------------------\u001b[0m",
      "\u001b[1;31mModuleNotFoundError\u001b[0m                       Traceback (most recent call last)",
      "Cell \u001b[1;32mIn[3], line 1\u001b[0m\n\u001b[1;32m----> 1\u001b[0m \u001b[38;5;28;01mimport\u001b[39;00m \u001b[38;5;21;01mtensorflow\u001b[39;00m \u001b[38;5;28;01mas\u001b[39;00m \u001b[38;5;21;01mtf\u001b[39;00m\n\u001b[0;32m      2\u001b[0m \u001b[38;5;28;01mfrom\u001b[39;00m \u001b[38;5;21;01mtensorflow\u001b[39;00m\u001b[38;5;21;01m.\u001b[39;00m\u001b[38;5;21;01mkeras\u001b[39;00m\u001b[38;5;21;01m.\u001b[39;00m\u001b[38;5;21;01mdatasets\u001b[39;00m \u001b[38;5;28;01mimport\u001b[39;00m fashion_mnist\n\u001b[0;32m      3\u001b[0m \u001b[38;5;28;01mfrom\u001b[39;00m \u001b[38;5;21;01msklearn\u001b[39;00m\u001b[38;5;21;01m.\u001b[39;00m\u001b[38;5;21;01mlinear_model\u001b[39;00m \u001b[38;5;28;01mimport\u001b[39;00m LogisticRegression\n",
      "\u001b[1;31mModuleNotFoundError\u001b[0m: No module named 'tensorflow'"
     ]
    }
   ],
   "source": [
    "import tensorflow as tf\n",
    "from tensorflow.keras.datasets import fashion_mnist\n",
    "from sklearn.linear_model import LogisticRegression\n",
    "from sklearn.metrics import confusion_matrix, classification_report, roc_curve, auc, precision_score, recall_score, precision_recall_curve\n",
    "import matplotlib.pyplot as plt\n",
    "import seaborn as sns\n",
    "import numpy as np\n",
    "from sklearn.preprocessing import label_binarize\n"
   ]
  },
  {
   "cell_type": "code",
   "execution_count": 4,
   "metadata": {},
   "outputs": [
    {
     "ename": "NameError",
     "evalue": "name 'fashion_mnist' is not defined",
     "output_type": "error",
     "traceback": [
      "\u001b[1;31m---------------------------------------------------------------------------\u001b[0m",
      "\u001b[1;31mNameError\u001b[0m                                 Traceback (most recent call last)",
      "Cell \u001b[1;32mIn[4], line 2\u001b[0m\n\u001b[0;32m      1\u001b[0m \u001b[38;5;66;03m# تحميل البيانات\u001b[39;00m\n\u001b[1;32m----> 2\u001b[0m (train_images, train_labels), (test_images, test_labels) \u001b[38;5;241m=\u001b[39m \u001b[43mfashion_mnist\u001b[49m\u001b[38;5;241m.\u001b[39mload_data()\n\u001b[0;32m      4\u001b[0m \u001b[38;5;66;03m# تصفية البيانات لاختيار الفئات من 0 إلى 4 فقط\u001b[39;00m\n\u001b[0;32m      5\u001b[0m mask_train \u001b[38;5;241m=\u001b[39m np\u001b[38;5;241m.\u001b[39misin(train_labels, [\u001b[38;5;241m0\u001b[39m, \u001b[38;5;241m1\u001b[39m, \u001b[38;5;241m2\u001b[39m, \u001b[38;5;241m3\u001b[39m, \u001b[38;5;241m4\u001b[39m])\n",
      "\u001b[1;31mNameError\u001b[0m: name 'fashion_mnist' is not defined"
     ]
    }
   ],
   "source": [
    "\n",
    "# تحميل البيانات\n",
    "(train_images, train_labels), (test_images, test_labels) = fashion_mnist.load_data()\n",
    "\n",
    "# تصفية البيانات لاختيار الفئات من 0 إلى 4 فقط\n",
    "mask_train = np.isin(train_labels, [0, 1, 2, 3, 4])\n",
    "train_images_filtered = train_images[mask_train]\n",
    "train_labels_filtered = train_labels[mask_train]\n",
    "\n",
    "mask_test = np.isin(test_labels, [0, 1, 2, 3, 4])\n",
    "test_images_filtered = test_images[mask_test]\n",
    "test_labels_filtered = test_labels[mask_test]\n"
   ]
  },
  {
   "cell_type": "code",
   "execution_count": null,
   "metadata": {},
   "outputs": [],
   "source": [
    "\n",
    "# تحويل الصور إلى مصفوفات 1D\n",
    "train_images_filtered = train_images_filtered.reshape((train_images_filtered.shape[0], 28 * 28))\n",
    "test_images_filtered = test_images_filtered.reshape((test_images_filtered.shape[0], 28 * 28))\n",
    "\n",
    "# توحيد القيم لتكون بين 0 و 1\n",
    "train_images_filtered, test_images_filtered = train_images_filtered / 255.0, test_images_filtered / 255.0\n"
   ]
  },
  {
   "cell_type": "code",
   "execution_count": null,
   "metadata": {},
   "outputs": [],
   "source": [
    "\n",
    "# تدريب نموذج الانحدار اللوجستي\n",
    "model = LogisticRegression(max_iter=1000)\n",
    "model.fit(train_images_filtered, train_labels_filtered)\n"
   ]
  },
  {
   "cell_type": "code",
   "execution_count": null,
   "metadata": {},
   "outputs": [],
   "source": [
    "\n",
    "# إجراء التنبؤات\n",
    "predictions = model.predict(test_images_filtered)\n",
    "\n",
    "# مصفوفة الارتباك\n",
    "cm = confusion_matrix(test_labels_filtered, predictions)\n",
    "print(\"Confusion Matrix:\")\n",
    "print(cm)\n"
   ]
  },
  {
   "cell_type": "code",
   "execution_count": null,
   "metadata": {},
   "outputs": [],
   "source": [
    "\n",
    "# تقرير التصنيف\n",
    "print(\"Classification Report:\")\n",
    "print(classification_report(test_labels_filtered, predictions))\n",
    "\n",
    "# حساب الدقة (accuracy), الدقة (precision), الاسترجاع (recall) لكل فئة\n",
    "accuracy = np.mean(predictions == test_labels_filtered)\n",
    "precision = precision_score(test_labels_filtered, predictions, average='weighted')\n",
    "recall = recall_score(test_labels_filtered, predictions, average='weighted')\n",
    "\n",
    "print(f\"Accuracy: {accuracy * 100:.2f}%\")\n",
    "print(f\"Precision: {precision:.2f}\")\n",
    "print(f\"Recall: {recall:.2f}\")\n"
   ]
  },
  {
   "cell_type": "code",
   "execution_count": null,
   "metadata": {},
   "outputs": [],
   "source": [
    "\n",
    "# تحويل التسميات إلى مصفوفة ثنائية (One-vs-Rest) للفئات من 0 إلى 4\n",
    "y_test_bin = label_binarize(test_labels_filtered, classes=np.arange(5))\n",
    "\n",
    "# حساب منحنى ROC لكل فئة باستخدام predict_proba\n",
    "fpr = {}\n",
    "tpr = {}\n",
    "roc_auc = {}\n",
    "\n",
    "for i in range(5):\n",
    "    fpr[i], tpr[i], _ = roc_curve(y_test_bin[:, i], model.predict_proba(test_images_filtered)[:, i])\n",
    "    roc_auc[i] = auc(fpr[i], tpr[i])\n",
    "\n",
    "# رسم منحنيات ROC لجميع الفئات في نفس الرسم\n",
    "plt.figure(figsize=(10, 8))\n",
    "colors = ['aqua', 'darkorange', 'green', 'red', 'blue']\n",
    "\n",
    "for i, color in zip(range(5), colors):\n",
    "    plt.plot(fpr[i], tpr[i], color=color, lw=2, label=f'Class {i} (AUC = {roc_auc[i]:0.2f})')\n",
    "\n",
    "# رسم الخطوط الأساسية (الخط العشوائي)\n",
    "plt.plot([0, 1], [0, 1], color='navy', lw=2, linestyle='--')\n",
    "\n",
    "# تسميات المحاور\n",
    "plt.xlabel('False Positive Rate')\n",
    "plt.ylabel('True Positive Rate')\n",
    "plt.title('ROC Curves for Multiple Classes')\n",
    "plt.legend(loc=\"lower right\")\n",
    "plt.show()\n"
   ]
  },
  {
   "cell_type": "code",
   "execution_count": null,
   "metadata": {},
   "outputs": [],
   "source": [
    "\n",
    "# رسم منحنى Precision-Recall لكل فئة\n",
    "plt.figure(figsize=(10, 8))\n",
    "for i, color in zip(range(5), colors):\n",
    "    precision_vals, recall_vals, _ = precision_recall_curve(y_test_bin[:, i], model.predict_proba(test_images_filtered)[:, i])\n",
    "    plt.plot(recall_vals, precision_vals, color=color, lw=2, label=f'PR curve for class {i} (Precision-Recall)')\n"
   ]
  },
  {
   "cell_type": "code",
   "execution_count": null,
   "metadata": {},
   "outputs": [],
   "source": [
    "\n",
    "plt.xlabel('Recall')\n",
    "plt.ylabel('Precision')\n",
    "plt.title('Precision-Recall Curves for Multiple Classes')\n",
    "plt.legend(loc=\"lower left\")\n",
    "plt.show()\n"
   ]
  },
  {
   "cell_type": "code",
   "execution_count": null,
   "metadata": {},
   "outputs": [],
   "source": [
    "\n",
    "# عرض مصفوفة الارتباك\n",
    "sns.heatmap(cm, annot=True, fmt=\"d\", cmap=\"Blues\", xticklabels=np.arange(5), yticklabels=np.arange(5))\n",
    "plt.xlabel('Predicted Labels')\n",
    "plt.ylabel('True Labels')\n",
    "plt.title('Confusion Matrix for 5 Classes')\n",
    "plt.show()\n"
   ]
  },
  {
   "cell_type": "code",
   "execution_count": null,
   "metadata": {},
   "outputs": [],
   "source": [
    "\n",
    "# عرض بعض الصور مع التنبؤات\n",
    "plt.figure(figsize=(10, 10))\n",
    "for i in range(9):\n",
    "    plt.subplot(3, 3, i + 1)\n",
    "    plt.imshow(test_images_filtered[i].reshape(28, 28), cmap='gray')\n",
    "    plt.title(f\"True: {test_labels_filtered[i]}, Pred: {predictions[i]}\")\n",
    "    plt.axis('off')\n",
    "plt.tight_layout()\n",
    "plt.show()"
   ]
  }
 ],
 "metadata": {
  "accelerator": "GPU",
  "colab": {
   "gpuType": "T4",
   "provenance": []
  },
  "kernelspec": {
   "display_name": "Python 3",
   "name": "python3"
  },
  "language_info": {
   "codemirror_mode": {
    "name": "ipython",
    "version": 3
   },
   "file_extension": ".py",
   "mimetype": "text/x-python",
   "name": "python",
   "nbconvert_exporter": "python",
   "pygments_lexer": "ipython3",
   "version": "3.11.9"
  }
 },
 "nbformat": 4,
 "nbformat_minor": 0
}
